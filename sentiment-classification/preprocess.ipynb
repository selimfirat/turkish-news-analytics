{
 "cells": [
  {
   "cell_type": "code",
   "execution_count": null,
   "metadata": {
    "scrolled": true
   },
   "outputs": [
    {
     "name": "stdout",
     "output_type": "stream",
     "text": [
      "Positives normalized\n",
      "Negatives normalized\n",
      "Notrs normalized\n"
     ]
    }
   ],
   "source": [
    "from normalizer import normalizer\n",
    "def normalize(_type):\n",
    "    with open(\"data/\"+ _type + \".txt\", encoding=\"utf-8\") as f:\n",
    "        with open(\"data/\" + _type + \"_normalized.txt\", \"a+\", encoding=\"utf-8\") as wf:\n",
    "            for l in f:\n",
    "                nl = normalizer.normalize(l)\n",
    "                wf.write(nl)\n",
    "\n",
    "normalize(\"positive\")\n",
    "print(\"Positives normalized\")\n",
    "normalize(\"negative\")\n",
    "print(\"Negatives normalized\")\n",
    "normalize(\"notr\")\n",
    "print(\"Notrs normalized\")"
   ]
  }
 ],
 "metadata": {
  "kernelspec": {
   "display_name": "Python 3",
   "language": "python",
   "name": "python3"
  },
  "language_info": {
   "codemirror_mode": {
    "name": "ipython",
    "version": 3
   },
   "file_extension": ".py",
   "mimetype": "text/x-python",
   "name": "python",
   "nbconvert_exporter": "python",
   "pygments_lexer": "ipython3",
   "version": "3.5.4"
  }
 },
 "nbformat": 4,
 "nbformat_minor": 1
}
