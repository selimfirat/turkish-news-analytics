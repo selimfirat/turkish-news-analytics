{
 "cells": [
  {
   "cell_type": "code",
   "execution_count": null,
   "metadata": {},
   "outputs": [],
   "source": [
    "from data import Data \n",
    "from sklearn.metrics import classification_report\n",
    "from sklearn.svm import SVC\n",
    "from sklearn.model_selection import ShuffleSplit\n",
    "from plot_learning_curve import plot_learning_curve\n",
    "import matplotlib.pyplot as plt\n",
    "import json\n",
    "\n",
    "%matplotlib inline\n",
    "\n",
    "data = Data()\n",
    "\n",
    "def classify(train_x, train_y, test_x, test_y, classifier_params):\n",
    "    \n",
    "    cv = ShuffleSplit(n_splits=10, test_size=0.2, random_state=0)\n",
    "    est = SVC()\n",
    "\n",
    "    #plot_learning_curve(est, \"Stochastic Gradient Descent\", train_x, train_y, cv=cv)\n",
    "    #plt.show()\n",
    "    \n",
    "    est = est.fit(X=train_x, y = train_y)\n",
    "    pred_y = est.predict(test_x)\n",
    "    print(classification_report(pred_y, test_y))"
   ]
  },
  {
   "cell_type": "code",
   "execution_count": 2,
   "metadata": {},
   "outputs": [],
   "source": [
    "EXPERIMENTS = [\n",
    "{\n",
    "    \"vectorizer_func\": \"count_vectorized\",\n",
    "    \"vectorizer\": {\n",
    "        \"ngram_range\": (1, 1)\n",
    "    },\n",
    "    \"data\": {\n",
    "        \"normalized\": True\n",
    "    },\n",
    "    \"estimator\": {\n",
    "    }\n",
    "},\n",
    "{\n",
    "    \"vectorizer_func\": \"count_vectorized\",\n",
    "    \"vectorizer\": {\n",
    "        \"ngram_range\": (2, 2)\n",
    "    },\n",
    "    \"data\": {\n",
    "        \"normalized\": True\n",
    "    },\n",
    "    \"estimator\": {\n",
    "    }\n",
    "},\n",
    "{\n",
    "    \"vectorizer_func\": \"tfidf_vectorized\",\n",
    "    \"vectorizer\": {\n",
    "        \"ngram_range\": (1, 1)\n",
    "    },\n",
    "    \"data\": {\n",
    "        \"normalized\": True\n",
    "    },\n",
    "    \"estimator\": {\n",
    "    }\n",
    "},\n",
    "{\n",
    "    \"vectorizer_func\": \"tfidf_vectorized\",\n",
    "    \"vectorizer\": {\n",
    "        \"ngram_range\": (2, 2)\n",
    "    },\n",
    "    \"data\": {\n",
    "        \"normalized\": True\n",
    "    },\n",
    "    \"estimator\": {\n",
    "    }\n",
    "},\n",
    "]"
   ]
  },
  {
   "cell_type": "code",
   "execution_count": null,
   "metadata": {
    "scrolled": false
   },
   "outputs": [
    {
     "name": "stdout",
     "output_type": "stream",
     "text": [
      "---------------\n",
      "{\"vectorizer\": {\"ngram_range\": [1, 1]}, \"estimator\": {}, \"data\": {\"normalized\": true}, \"vectorizer_func\": \"count_vectorized\"}\n",
      "--\n"
     ]
    },
    {
     "name": "stderr",
     "output_type": "stream",
     "text": [
      "C:\\Users\\Selim\\Anaconda3\\envs\\tensorflow\\lib\\site-packages\\sklearn\\metrics\\classification.py:1137: UndefinedMetricWarning: Recall and F-score are ill-defined and being set to 0.0 in labels with no true samples.\n",
      "  'recall', 'true', average, warn_for)\n"
     ]
    },
    {
     "name": "stdout",
     "output_type": "stream",
     "text": [
      "             precision    recall  f1-score   support\n",
      "\n",
      "   NEGATIVE       1.00      0.51      0.67      1189\n",
      "       NOTR       0.00      0.00      0.00         0\n",
      "   POSITIVE       0.03      0.80      0.05        10\n",
      "\n",
      "avg / total       0.99      0.51      0.67      1199\n",
      "\n",
      "---------------\n",
      "---------------\n",
      "{\"vectorizer\": {\"ngram_range\": [2, 2]}, \"estimator\": {}, \"data\": {\"normalized\": true}, \"vectorizer_func\": \"count_vectorized\"}\n",
      "--\n"
     ]
    }
   ],
   "source": [
    "for param_set in EXPERIMENTS:\n",
    "    print(\"-\" * 15)\n",
    "    print(json.dumps(param_set))\n",
    "    print(\"--\")\n",
    "    data = Data(**param_set[\"data\"])\n",
    "    vectorizer = getattr(data, param_set[\"vectorizer_func\"])\n",
    "    train_x, train_y, test_x, test_y = vectorizer(**param_set[\"vectorizer\"])\n",
    "    classify(train_x, train_y, test_x, test_y, param_set[\"estimator\"])\n",
    "    print(\"-\" * 15)"
   ]
  }
 ],
 "metadata": {
  "kernelspec": {
   "display_name": "Python 3",
   "language": "python",
   "name": "python3"
  },
  "language_info": {
   "codemirror_mode": {
    "name": "ipython",
    "version": 3
   },
   "file_extension": ".py",
   "mimetype": "text/x-python",
   "name": "python",
   "nbconvert_exporter": "python",
   "pygments_lexer": "ipython3",
   "version": "3.5.4"
  }
 },
 "nbformat": 4,
 "nbformat_minor": 1
}
