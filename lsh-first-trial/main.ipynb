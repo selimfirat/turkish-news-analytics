{
 "cells": [
  {
   "cell_type": "code",
   "execution_count": 1,
   "metadata": {},
   "outputs": [
    {
     "data": {
      "text/html": [
       "<div>\n",
       "<style scoped>\n",
       "    .dataframe tbody tr th:only-of-type {\n",
       "        vertical-align: middle;\n",
       "    }\n",
       "\n",
       "    .dataframe tbody tr th {\n",
       "        vertical-align: top;\n",
       "    }\n",
       "\n",
       "    .dataframe thead th {\n",
       "        text-align: right;\n",
       "    }\n",
       "</style>\n",
       "<table border=\"1\" class=\"dataframe\">\n",
       "  <thead>\n",
       "    <tr style=\"text-align: right;\">\n",
       "      <th></th>\n",
       "      <th>text</th>\n",
       "    </tr>\n",
       "  </thead>\n",
       "  <tbody>\n",
       "    <tr>\n",
       "      <th>0</th>\n",
       "      <td>BATUHAN ERDURCAN \\r\\n21301855 \\r\\nTURK 101-13 ...</td>\n",
       "    </tr>\n",
       "    <tr>\n",
       "      <th>1</th>\n",
       "      <td>\\r\\nYalçın Arslan \\r\\n21300458 \\r\\nAslı Uçar ...</td>\n",
       "    </tr>\n",
       "    <tr>\n",
       "      <th>2</th>\n",
       "      <td>Sudenur SOYSAL \\r\\nGÜZELLİK Mİ ÇİRKİNLİK Mİ HA...</td>\n",
       "    </tr>\n",
       "    <tr>\n",
       "      <th>3</th>\n",
       "      <td>Mars’ta Yaşam mı? \\r\\n \\r\\nHayatım boyunca evr...</td>\n",
       "    </tr>\n",
       "    <tr>\n",
       "      <th>4</th>\n",
       "      <td>Bir Şehrin İki Yakasında \\r\\n \\r\\n\"İki büyük c...</td>\n",
       "    </tr>\n",
       "  </tbody>\n",
       "</table>\n",
       "</div>"
      ],
      "text/plain": [
       "                                                text\n",
       "0  BATUHAN ERDURCAN \\r\\n21301855 \\r\\nTURK 101-13 ...\n",
       "1   \\r\\nYalçın Arslan \\r\\n21300458 \\r\\nAslı Uçar ...\n",
       "2  Sudenur SOYSAL \\r\\nGÜZELLİK Mİ ÇİRKİNLİK Mİ HA...\n",
       "3  Mars’ta Yaşam mı? \\r\\n \\r\\nHayatım boyunca evr...\n",
       "4  Bir Şehrin İki Yakasında \\r\\n \\r\\n\"İki büyük c..."
      ]
     },
     "execution_count": 1,
     "metadata": {},
     "output_type": "execute_result"
    }
   ],
   "source": [
    "import pandas as pd\n",
    "\n",
    "df = pd.read_csv(\"texts.csv\", index_col=0)\n",
    "df.head()"
   ]
  },
  {
   "cell_type": "code",
   "execution_count": 43,
   "metadata": {},
   "outputs": [
    {
     "data": {
      "text/plain": [
       "(4051, 3812, 7860)"
      ]
     },
     "execution_count": 43,
     "metadata": {},
     "output_type": "execute_result"
    }
   ],
   "source": [
    "from similarity import shingling, matrix_representation, signature_matrix, iterative_hash_matrix\n",
    "S = []\n",
    "num_docs = 25\n",
    "for r in df[:num_docs].iterrows():\n",
    "    s = shingling(r[1][\"text\"], 15)\n",
    "    S.append(s)\n",
    "#    print(r[1][\"text\"])\n",
    "#    print(\"----\")\n",
    "\n",
    "# explore some lengths\n",
    "(len(S[0]),\n",
    "len(S[1]),\n",
    "len(S[0] | S[1]))"
   ]
  },
  {
   "cell_type": "code",
   "execution_count": 51,
   "metadata": {},
   "outputs": [
    {
     "data": {
      "text/plain": [
       "<111454x25 sparse matrix of type '<class 'numpy.int32'>'\n",
       "\twith 111939 stored elements in COOrdinate format>"
      ]
     },
     "execution_count": 51,
     "metadata": {},
     "output_type": "execute_result"
    }
   ],
   "source": [
    "M = matrix_representation(S)\n",
    "M"
   ]
  },
  {
   "cell_type": "code",
   "execution_count": 52,
   "metadata": {},
   "outputs": [
    {
     "data": {
      "text/plain": [
       "array([[ 7, 14,  7, ...,  7,  7,  7],\n",
       "       [ 8, 16,  8, ...,  8,  8,  8],\n",
       "       [ 9, 18,  9, ...,  9,  9,  9],\n",
       "       ...,\n",
       "       [ 4,  8,  4, ...,  4,  4,  4],\n",
       "       [ 5, 10,  5, ...,  5,  5,  5],\n",
       "       [ 6, 12,  6, ...,  6,  6,  6]], dtype=uint32)"
      ]
     },
     "execution_count": 52,
     "metadata": {},
     "output_type": "execute_result"
    }
   ],
   "source": [
    "H = iterative_hash_matrix(M, 10)\n",
    "H"
   ]
  },
  {
   "cell_type": "code",
   "execution_count": 53,
   "metadata": {},
   "outputs": [
    {
     "name": "stdout",
     "output_type": "stream",
     "text": [
      "111939\n"
     ]
    },
    {
     "data": {
      "text/plain": [
       "array([[4.05700e+03, 7.86600e+03, 1.23310e+04, 1.65310e+04, 2.16690e+04,\n",
       "        2.54430e+04, 2.92700e+04, 3.37470e+04, 3.82100e+04, 4.22010e+04,\n",
       "        4.62750e+04, 5.00960e+04, 5.42950e+04, 5.82700e+04, 6.30200e+04,\n",
       "        6.77350e+04, 7.25170e+04, 7.86150e+04, 8.27480e+04, 8.67960e+04,\n",
       "        9.06170e+04, 9.78570e+04, 1.03150e+05, 1.07180e+05, 6.00000e+00],\n",
       "       [8.11400e+03, 1.57320e+04, 2.46620e+04, 3.30620e+04, 4.33380e+04,\n",
       "        5.08860e+04, 5.85400e+04, 6.74940e+04, 7.64200e+04, 8.44020e+04,\n",
       "        9.25500e+04, 1.00192e+05, 1.08590e+05, 5.08600e+03, 1.45860e+04,\n",
       "        2.40160e+04, 3.35800e+04, 4.57760e+04, 5.40420e+04, 6.21380e+04,\n",
       "        6.97800e+04, 8.42600e+04, 9.48460e+04, 1.02906e+05, 1.20000e+01],\n",
       "       [4.05700e+03, 7.86600e+03, 1.23310e+04, 1.65310e+04, 2.16690e+04,\n",
       "        2.54430e+04, 2.92700e+04, 3.37470e+04, 3.82100e+04, 4.22010e+04,\n",
       "        4.62750e+04, 5.00960e+04, 5.42950e+04, 5.82700e+04, 6.30200e+04,\n",
       "        6.77350e+04, 7.25170e+04, 7.86150e+04, 8.27480e+04, 8.67960e+04,\n",
       "        9.06170e+04, 9.78570e+04, 1.03150e+05, 1.07180e+05, 6.00000e+00],\n",
       "       [4.05700e+03, 7.86600e+03, 1.23310e+04, 1.65310e+04, 2.16690e+04,\n",
       "        2.54430e+04, 2.92700e+04, 3.37470e+04, 3.82100e+04, 4.22010e+04,\n",
       "        4.62750e+04, 5.00960e+04, 5.42950e+04, 5.82700e+04, 6.30200e+04,\n",
       "        6.77350e+04, 7.25170e+04, 7.86150e+04, 8.27480e+04, 8.67960e+04,\n",
       "        9.06170e+04, 9.78570e+04, 1.03150e+05, 1.07180e+05, 6.00000e+00],\n",
       "       [4.05700e+03, 7.86600e+03, 1.23310e+04, 1.65310e+04, 2.16690e+04,\n",
       "        2.54430e+04, 2.92700e+04, 3.37470e+04, 3.82100e+04, 4.22010e+04,\n",
       "        4.62750e+04, 5.00960e+04, 5.42950e+04, 5.82700e+04, 6.30200e+04,\n",
       "        6.77350e+04, 7.25170e+04, 7.86150e+04, 8.27480e+04, 8.67960e+04,\n",
       "        9.06170e+04, 9.78570e+04, 1.03150e+05, 1.07180e+05, 6.00000e+00],\n",
       "       [4.05700e+03, 7.86600e+03, 1.23310e+04, 1.65310e+04, 2.16690e+04,\n",
       "        2.54430e+04, 2.92700e+04, 3.37470e+04, 3.82100e+04, 4.22010e+04,\n",
       "        4.62750e+04, 5.00960e+04, 5.42950e+04, 5.82700e+04, 6.30200e+04,\n",
       "        6.77350e+04, 7.25170e+04, 7.86150e+04, 8.27480e+04, 8.67960e+04,\n",
       "        9.06170e+04, 9.78570e+04, 1.03150e+05, 1.07180e+05, 6.00000e+00],\n",
       "       [4.05700e+03, 7.86600e+03, 1.23310e+04, 1.65310e+04, 2.16690e+04,\n",
       "        2.54430e+04, 2.92700e+04, 3.37470e+04, 3.82100e+04, 4.22010e+04,\n",
       "        4.62750e+04, 5.00960e+04, 5.42950e+04, 5.82700e+04, 6.30200e+04,\n",
       "        6.77350e+04, 7.25170e+04, 7.86150e+04, 8.27480e+04, 8.67960e+04,\n",
       "        9.06170e+04, 9.78570e+04, 1.03150e+05, 1.07180e+05, 6.00000e+00],\n",
       "       [4.05700e+03, 7.86600e+03, 1.23310e+04, 1.65310e+04, 2.16690e+04,\n",
       "        2.54430e+04, 2.92700e+04, 3.37470e+04, 3.82100e+04, 4.22010e+04,\n",
       "        4.62750e+04, 5.00960e+04, 5.42950e+04, 5.82700e+04, 6.30200e+04,\n",
       "        6.77350e+04, 7.25170e+04, 7.86150e+04, 8.27480e+04, 8.67960e+04,\n",
       "        9.06170e+04, 9.78570e+04, 1.03150e+05, 1.07180e+05, 6.00000e+00],\n",
       "       [4.05700e+03, 7.86600e+03, 1.23310e+04, 1.65310e+04, 2.16690e+04,\n",
       "        2.54430e+04, 2.92700e+04, 3.37470e+04, 3.82100e+04, 4.22010e+04,\n",
       "        4.62750e+04, 5.00960e+04, 5.42950e+04, 5.82700e+04, 6.30200e+04,\n",
       "        6.77350e+04, 7.25170e+04, 7.86150e+04, 8.27480e+04, 8.67960e+04,\n",
       "        9.06170e+04, 9.78570e+04, 1.03150e+05, 1.07180e+05, 6.00000e+00],\n",
       "       [4.05700e+03, 7.86600e+03, 1.23310e+04, 1.65310e+04, 2.16690e+04,\n",
       "        2.54430e+04, 2.92700e+04, 3.37470e+04, 3.82100e+04, 4.22010e+04,\n",
       "        4.62750e+04, 5.00960e+04, 5.42950e+04, 5.82700e+04, 6.30200e+04,\n",
       "        6.77350e+04, 7.25170e+04, 7.86150e+04, 8.27480e+04, 8.67960e+04,\n",
       "        9.06170e+04, 9.78570e+04, 1.03150e+05, 1.07180e+05, 6.00000e+00]])"
      ]
     },
     "execution_count": 53,
     "metadata": {},
     "output_type": "execute_result"
    }
   ],
   "source": [
    "import numpy as np\n",
    "\n",
    "def signature_matrix(M, H):\n",
    "    G = np.full([H.shape[1], M.shape[1]], np.inf)\n",
    "    #l = M.shape[0],\n",
    "    nz = M.nonzero()\n",
    "    l = len(nz[0])\n",
    "    print(l)\n",
    "#for i in range(l):\n",
    "    rid, cid = nz[0][:], nz[1][:]\n",
    "    G[:, cid] = np.minimum(G[:, cid], H.T[:, rid])\n",
    "    \"\"\"\n",
    "    for rid in range(l):\n",
    "        r = M.getrow(rid)\n",
    "        for idx in range(r.shape[1]):\n",
    "            x = r[0, idx]\n",
    "            if x == 1:\n",
    "                G[:, idx] = np.minimum(G[:, idx], H.T[:, rid])\n",
    "            \n",
    "      #  print(G)\n",
    "    \"\"\"\n",
    "    return G\n",
    "\n",
    "G = signature_matrix(M, H)\n",
    "G"
   ]
  },
  {
   "cell_type": "code",
   "execution_count": 54,
   "metadata": {},
   "outputs": [
    {
     "name": "stdout",
     "output_type": "stream",
     "text": [
      "(10, 25)\n"
     ]
    }
   ],
   "source": [
    " import scipy.spatial.distance as sp_dist\n",
    "\n",
    "print(G.shape)\n",
    "#for i in range(G.shape[1]):\n",
    "#    for j in range(i + 1, G.shape[1]):\n",
    "#        print(i+1, j+1, 1 - sp_dist.jaccard(G[:, i], G[:,j]))"
   ]
  },
  {
   "cell_type": "code",
   "execution_count": 56,
   "metadata": {},
   "outputs": [
    {
     "data": {
      "text/plain": [
       "<matplotlib.collections.PathCollection at 0x247852f4128>"
      ]
     },
     "execution_count": 56,
     "metadata": {},
     "output_type": "execute_result"
    },
    {
     "data": {
      "image/png": "[encoded data removed]",
      "text/plain": [
       "<Figure size 432x288 with 1 Axes>"
      ]
     },
     "metadata": {},
     "output_type": "display_data"
    }
   ],
   "source": [
    "tsne = manifold.LocallyLinearEmbedding(4, n_components=2,\n",
    "                                      method='standard')\n",
    "X_tsne = tsne.fit_transform(M.toarray().T)\n",
    "\n",
    "X_tsne[:, 1]\n",
    "\n",
    "import matplotlib as plt\n",
    "plt.pyplot.scatter(x=X_tsne[:, 1], y=X_tsne[:, 0])"
   ]
  }
 ],
 "metadata": {
  "kernelspec": {
   "display_name": "Python 3",
   "language": "python",
   "name": "python3"
  },
  "language_info": {
   "codemirror_mode": {
    "name": "ipython",
    "version": 3
   },
   "file_extension": ".py",
   "mimetype": "text/x-python",
   "name": "python",
   "nbconvert_exporter": "python",
   "pygments_lexer": "ipython3",
   "version": "3.5.4"
  }
 },
 "nbformat": 4,
 "nbformat_minor": 1
}
