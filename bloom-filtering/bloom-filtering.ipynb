{
 "cells": [
  {
   "cell_type": "code",
   "execution_count": null,
   "metadata": {},
   "outputs": [
    {
     "ename": "ModuleNotFoundError",
     "evalue": "No module named 'bitstring'",
     "output_type": "error",
     "traceback": [
      "\u001b[1;31m---------------------------------------------------------------------------\u001b[0m",
      "\u001b[1;31mModuleNotFoundError\u001b[0m                       Traceback (most recent call last)",
      "\u001b[1;32m<ipython-input-1-da9fa3edf8df>\u001b[0m in \u001b[0;36m<module>\u001b[1;34m()\u001b[0m\n\u001b[0;32m      1\u001b[0m \u001b[1;31m# This notebook contains Bloom Filter implementation which is to check whether an element in a set\u001b[0m\u001b[1;33m\u001b[0m\u001b[1;33m\u001b[0m\u001b[0m\n\u001b[1;32m----> 2\u001b[1;33m \u001b[1;32mfrom\u001b[0m \u001b[0mbitstring\u001b[0m \u001b[1;32mimport\u001b[0m \u001b[0mBitArray\u001b[0m\u001b[1;33m\u001b[0m\u001b[0m\n\u001b[0m\u001b[0;32m      3\u001b[0m \u001b[0ml\u001b[0m \u001b[1;33m=\u001b[0m \u001b[1;36m2\u001b[0m\u001b[1;33m**\u001b[0m\u001b[1;36m16\u001b[0m\u001b[1;33m\u001b[0m\u001b[0m\n\u001b[0;32m      4\u001b[0m \u001b[0mbm\u001b[0m \u001b[1;33m=\u001b[0m \u001b[0mBitArray\u001b[0m\u001b[1;33m(\u001b[0m\u001b[0mint\u001b[0m\u001b[1;33m=\u001b[0m\u001b[1;36m0\u001b[0m\u001b[1;33m,\u001b[0m \u001b[0mlength\u001b[0m\u001b[1;33m=\u001b[0m\u001b[0ml\u001b[0m\u001b[1;33m)\u001b[0m\u001b[1;33m\u001b[0m\u001b[0m\n\u001b[0;32m      5\u001b[0m \u001b[0mbm\u001b[0m\u001b[1;33m\u001b[0m\u001b[0m\n",
      "\u001b[1;31mModuleNotFoundError\u001b[0m: No module named 'bitstring'"
     ]
    }
   ],
   "source": [
    "# This notebook contains Bloom Filter implementation which is to check whether an element in a set\n",
    "from bitstring import BitArray\n",
    "l = 2**16\n",
    "bm = BitArray(int=0, length=l)\n",
    "bm"
   ]
  },
  {
   "cell_type": "code",
   "execution_count": 2,
   "metadata": {},
   "outputs": [
    {
     "data": {
      "text/plain": [
       "(1, 10)"
      ]
     },
     "execution_count": 2,
     "metadata": {},
     "output_type": "execute_result"
    }
   ],
   "source": [
    "from random import randint\n",
    "\n",
    "# To generate number of zeros and ones in a bitstring\n",
    "def gen_bits(a):\n",
    "    bn = bin(a)\n",
    "    zeros = bn.count(\"0\")\n",
    "    ones = bn.count(\"1\")\n",
    "    return zeros, ones\n",
    "gen_bits(1023)"
   ]
  },
  {
   "cell_type": "code",
   "execution_count": 3,
   "metadata": {
    "collapsed": true
   },
   "outputs": [],
   "source": [
    "# Create some hash functions\n",
    "h1 = lambda z : (13*z+3) % l\n",
    "h2 = lambda o : (15*o+3) % l"
   ]
  },
  {
   "cell_type": "code",
   "execution_count": 4,
   "metadata": {},
   "outputs": [
    {
     "name": "stdout",
     "output_type": "stream",
     "text": [
      "# of training samples:  10000\n"
     ]
    }
   ],
   "source": [
    "# Testing is based on previously introduced element into the hash table via the training procedure\n",
    "training_num = 10000\n",
    "\n",
    "training = list(set([randint(0, randint(0, 2**randint(0, l))) for i in range(training_num)]))\n",
    "training_num = len(training)\n",
    "print(\"# of training samples: \", training_num)"
   ]
  },
  {
   "cell_type": "code",
   "execution_count": 5,
   "metadata": {},
   "outputs": [
    {
     "name": "stdout",
     "output_type": "stream",
     "text": [
      "# of collisions(false positives) :  502\n"
     ]
    },
    {
     "data": {
      "text/plain": [
       "BitArray('0x4022a8b38c0244920012019b044100400a443b0004084a404a2641056885701d001e2c93045a018c00118008928100442e048d20f0224701411040053015c00804722021151d103802c09ae00d804b000380520123112486e8166096c021920c20b1924601a0827208a400003d0028800b81740a640020810618a019c0...') # length=65536"
      ]
     },
     "execution_count": 5,
     "metadata": {},
     "output_type": "execute_result"
    }
   ],
   "source": [
    "# Traing & Test the Bloom Filter\n",
    "bm = BitArray(int=0, length=l)\n",
    "freqs = []\n",
    "num_collisions = 0\n",
    "for rnd in training:\n",
    "    zeros, ones = gen_bits(rnd)\n",
    "    z = h1(zeros)\n",
    "    o = h2(ones)\n",
    "    if bm[z] == 1 and bm[o] == 1:\n",
    "        num_collisions += 1\n",
    "    freqs.append(num_collisions)\n",
    "    bm[z] = 1\n",
    "    bm[o] = 1\n",
    "    \n",
    "print(\"# of collisions(false positives) : \", num_collisions)\n",
    "bm"
   ]
  },
  {
   "cell_type": "code",
   "execution_count": 6,
   "metadata": {},
   "outputs": [
    {
     "data": {
      "image/png": "[encoded data removed]",
      "text/plain": [
       "<matplotlib.figure.Figure at 0x1f6f6460a90>"
      ]
     },
     "metadata": {},
     "output_type": "display_data"
    }
   ],
   "source": [
    "import matplotlib.pyplot as plt\n",
    "import numpy as np\n",
    "\n",
    "% matplotlib inline\n",
    "# Data for plotting\n",
    "t = np.arange(0, training_num, 1)\n",
    "s = freqs\n",
    "\n",
    "# Note that using plt.subplots below is equivalent to using\n",
    "# fig = plt.figure() and then ax = fig.add_subplot(111)\n",
    "fig, ax = plt.subplots()\n",
    "ax.plot(t, s)\n",
    "\n",
    "ax.set(xlabel='Total # of Samples', ylabel='Total # of Collisions',\n",
    "       title='# of Collisions vs. # of Samples')\n",
    "ax.grid()\n",
    "\n",
    "plt.show()"
   ]
  },
  {
   "cell_type": "code",
   "execution_count": 7,
   "metadata": {},
   "outputs": [
    {
     "name": "stdout",
     "output_type": "stream",
     "text": [
      "False negatives:  0\n"
     ]
    }
   ],
   "source": [
    "fn = 0\n",
    "for rnd in training:\n",
    "    zeros, ones = gen_bits(rnd)\n",
    "    z = h1(zeros)\n",
    "    o = h2(ones)\n",
    "    if not (bm[z] == 1 and bm[o] == 1):\n",
    "        fn += 1\n",
    "print(\"False negatives: \", fn) ## ALWAYS ZERO!!"
   ]
  },
  {
   "cell_type": "code",
   "execution_count": 8,
   "metadata": {},
   "outputs": [
    {
     "data": {
      "text/plain": [
       "'\\nLeskovec, J., Rajaraman, A. and Ullman, J. (2016). Mining of massive datasets. Delhi: Cambridge University Press, pp.140-141.\\n'"
      ]
     },
     "execution_count": 8,
     "metadata": {},
     "output_type": "execute_result"
    }
   ],
   "source": [
    "\"\"\"\n",
    "Leskovec, J., Rajaraman, A. and Ullman, J. (2016). Mining of massive datasets. Delhi: Cambridge University Press, pp.140-141.\n",
    "\"\"\""
   ]
  }
 ],
 "metadata": {
  "kernelspec": {
   "display_name": "Python 3",
   "language": "python",
   "name": "python3"
  },
  "language_info": {
   "codemirror_mode": {
    "name": "ipython",
    "version": 3
   },
   "file_extension": ".py",
   "mimetype": "text/x-python",
   "name": "python",
   "nbconvert_exporter": "python",
   "pygments_lexer": "ipython3",
   "version": "3.5.4"
  }
 },
 "nbformat": 4,
 "nbformat_minor": 1
}
